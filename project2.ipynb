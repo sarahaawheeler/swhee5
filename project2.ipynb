{
 "cells": [
  {
   "cell_type": "markdown",
   "metadata": {},
   "source": [
    "<h1 id=\"header\"> Data Science Discovery - Project #2 </h1>\n",
    "\n",
    "<h3 id=\"header\">By Sarah Wheeler</h3>"
   ]
  },
  {
   "cell_type": "markdown",
   "metadata": {},
   "source": [
    "<h1 id=\"header\">Section 1: Dataset</h1> "
   ]
  },
  {
   "cell_type": "markdown",
   "metadata": {},
   "source": [
    "As a Political Science major with a focus on International Relations, I began my search for a dataset knowing I wanted to root my project in my field of study. In particular, I hoped to find a dataset that would allow me to study the behavior of foreigners in relation to politically-controversial territories. By searching through Kaggle, I came across a dataset related to travel to Taiwan. Since the dataset documents the travelers' place of residence, date of travel, and reason for travel, I hope to use this data to understand trends (or, perhaps, the lack thereof) in Taiwan travel. "
   ]
  },
  {
   "cell_type": "code",
   "execution_count": 1,
   "metadata": {},
   "outputs": [
    {
     "name": "stdout",
     "output_type": "stream",
     "text": [
      "Requirement already satisfied: matplotlib in c:\\users\\swhee\\appdata\\local\\packages\\pythonsoftwarefoundation.python.3.11_qbz5n2kfra8p0\\localcache\\local-packages\\python311\\site-packages (3.8.0)\n",
      "Requirement already satisfied: contourpy>=1.0.1 in c:\\users\\swhee\\appdata\\local\\packages\\pythonsoftwarefoundation.python.3.11_qbz5n2kfra8p0\\localcache\\local-packages\\python311\\site-packages (from matplotlib) (1.1.1)\n",
      "Requirement already satisfied: cycler>=0.10 in c:\\users\\swhee\\appdata\\local\\packages\\pythonsoftwarefoundation.python.3.11_qbz5n2kfra8p0\\localcache\\local-packages\\python311\\site-packages (from matplotlib) (0.11.0)\n",
      "Requirement already satisfied: fonttools>=4.22.0 in c:\\users\\swhee\\appdata\\local\\packages\\pythonsoftwarefoundation.python.3.11_qbz5n2kfra8p0\\localcache\\local-packages\\python311\\site-packages (from matplotlib) (4.42.1)\n",
      "Requirement already satisfied: kiwisolver>=1.0.1 in c:\\users\\swhee\\appdata\\local\\packages\\pythonsoftwarefoundation.python.3.11_qbz5n2kfra8p0\\localcache\\local-packages\\python311\\site-packages (from matplotlib) (1.4.5)\n",
      "Requirement already satisfied: numpy<2,>=1.21 in c:\\users\\swhee\\appdata\\local\\packages\\pythonsoftwarefoundation.python.3.11_qbz5n2kfra8p0\\localcache\\local-packages\\python311\\site-packages (from matplotlib) (1.25.2)\n",
      "Requirement already satisfied: packaging>=20.0 in c:\\users\\swhee\\appdata\\local\\packages\\pythonsoftwarefoundation.python.3.11_qbz5n2kfra8p0\\localcache\\local-packages\\python311\\site-packages (from matplotlib) (23.1)\n",
      "Requirement already satisfied: pillow>=6.2.0 in c:\\users\\swhee\\appdata\\local\\packages\\pythonsoftwarefoundation.python.3.11_qbz5n2kfra8p0\\localcache\\local-packages\\python311\\site-packages (from matplotlib) (10.0.1)\n",
      "Requirement already satisfied: pyparsing>=2.3.1 in c:\\users\\swhee\\appdata\\local\\packages\\pythonsoftwarefoundation.python.3.11_qbz5n2kfra8p0\\localcache\\local-packages\\python311\\site-packages (from matplotlib) (3.1.1)\n",
      "Requirement already satisfied: python-dateutil>=2.7 in c:\\users\\swhee\\appdata\\local\\packages\\pythonsoftwarefoundation.python.3.11_qbz5n2kfra8p0\\localcache\\local-packages\\python311\\site-packages (from matplotlib) (2.8.2)\n",
      "Requirement already satisfied: six>=1.5 in c:\\users\\swhee\\appdata\\local\\packages\\pythonsoftwarefoundation.python.3.11_qbz5n2kfra8p0\\localcache\\local-packages\\python311\\site-packages (from python-dateutil>=2.7->matplotlib) (1.16.0)\n"
     ]
    },
    {
     "name": "stderr",
     "output_type": "stream",
     "text": [
      "\n",
      "[notice] A new release of pip is available: 23.2.1 -> 23.3.1\n",
      "[notice] To update, run: C:\\Users\\swhee\\AppData\\Local\\Microsoft\\WindowsApps\\PythonSoftwareFoundation.Python.3.11_qbz5n2kfra8p0\\python.exe -m pip install --upgrade pip\n"
     ]
    }
   ],
   "source": [
    "!pip3 install matplotlib"
   ]
  },
  {
   "cell_type": "code",
   "execution_count": 2,
   "metadata": {},
   "outputs": [],
   "source": [
    "import pandas as pd\n",
    "import numpy as np\n",
    "import matplotlib.pyplot as plt"
   ]
  },
  {
   "cell_type": "code",
   "execution_count": 3,
   "metadata": {},
   "outputs": [
    {
     "data": {
      "text/html": [
       "<div>\n",
       "<style scoped>\n",
       "    .dataframe tbody tr th:only-of-type {\n",
       "        vertical-align: middle;\n",
       "    }\n",
       "\n",
       "    .dataframe tbody tr th {\n",
       "        vertical-align: top;\n",
       "    }\n",
       "\n",
       "    .dataframe thead th {\n",
       "        text-align: right;\n",
       "    }\n",
       "</style>\n",
       "<table border=\"1\" class=\"dataframe\">\n",
       "  <thead>\n",
       "    <tr style=\"text-align: right;\">\n",
       "      <th></th>\n",
       "      <th>Residence</th>\n",
       "      <th>Region</th>\n",
       "      <th>Sub-Region</th>\n",
       "      <th>Period</th>\n",
       "      <th>Business</th>\n",
       "      <th>Pleasure</th>\n",
       "      <th>Visit Relatives</th>\n",
       "      <th>Conference</th>\n",
       "      <th>Study</th>\n",
       "      <th>Exhibition</th>\n",
       "      <th>Medical Treatment</th>\n",
       "      <th>Others</th>\n",
       "      <th>Unstated</th>\n",
       "    </tr>\n",
       "  </thead>\n",
       "  <tbody>\n",
       "    <tr>\n",
       "      <th>0</th>\n",
       "      <td>Unstated</td>\n",
       "      <td>NaN</td>\n",
       "      <td>NaN</td>\n",
       "      <td>2011-01</td>\n",
       "      <td>1</td>\n",
       "      <td>2</td>\n",
       "      <td>2</td>\n",
       "      <td>0</td>\n",
       "      <td>0</td>\n",
       "      <td>0</td>\n",
       "      <td>0</td>\n",
       "      <td>14</td>\n",
       "      <td>2474</td>\n",
       "    </tr>\n",
       "    <tr>\n",
       "      <th>1</th>\n",
       "      <td>France</td>\n",
       "      <td>Europe</td>\n",
       "      <td>NaN</td>\n",
       "      <td>2011-01</td>\n",
       "      <td>1003</td>\n",
       "      <td>337</td>\n",
       "      <td>474</td>\n",
       "      <td>22</td>\n",
       "      <td>99</td>\n",
       "      <td>0</td>\n",
       "      <td>0</td>\n",
       "      <td>123</td>\n",
       "      <td>55</td>\n",
       "    </tr>\n",
       "    <tr>\n",
       "      <th>2</th>\n",
       "      <td>Germany</td>\n",
       "      <td>Europe</td>\n",
       "      <td>NaN</td>\n",
       "      <td>2011-01</td>\n",
       "      <td>1835</td>\n",
       "      <td>511</td>\n",
       "      <td>627</td>\n",
       "      <td>46</td>\n",
       "      <td>62</td>\n",
       "      <td>0</td>\n",
       "      <td>0</td>\n",
       "      <td>129</td>\n",
       "      <td>151</td>\n",
       "    </tr>\n",
       "    <tr>\n",
       "      <th>3</th>\n",
       "      <td>Italy</td>\n",
       "      <td>Europe</td>\n",
       "      <td>NaN</td>\n",
       "      <td>2011-01</td>\n",
       "      <td>517</td>\n",
       "      <td>144</td>\n",
       "      <td>137</td>\n",
       "      <td>26</td>\n",
       "      <td>10</td>\n",
       "      <td>0</td>\n",
       "      <td>0</td>\n",
       "      <td>56</td>\n",
       "      <td>43</td>\n",
       "    </tr>\n",
       "    <tr>\n",
       "      <th>4</th>\n",
       "      <td>Netherlands</td>\n",
       "      <td>Europe</td>\n",
       "      <td>NaN</td>\n",
       "      <td>2011-01</td>\n",
       "      <td>531</td>\n",
       "      <td>278</td>\n",
       "      <td>211</td>\n",
       "      <td>11</td>\n",
       "      <td>15</td>\n",
       "      <td>0</td>\n",
       "      <td>0</td>\n",
       "      <td>61</td>\n",
       "      <td>32</td>\n",
       "    </tr>\n",
       "    <tr>\n",
       "      <th>...</th>\n",
       "      <td>...</td>\n",
       "      <td>...</td>\n",
       "      <td>...</td>\n",
       "      <td>...</td>\n",
       "      <td>...</td>\n",
       "      <td>...</td>\n",
       "      <td>...</td>\n",
       "      <td>...</td>\n",
       "      <td>...</td>\n",
       "      <td>...</td>\n",
       "      <td>...</td>\n",
       "      <td>...</td>\n",
       "      <td>...</td>\n",
       "    </tr>\n",
       "    <tr>\n",
       "      <th>3610</th>\n",
       "      <td>Netherlands</td>\n",
       "      <td>Europe</td>\n",
       "      <td>NaN</td>\n",
       "      <td>2018-09</td>\n",
       "      <td>794</td>\n",
       "      <td>692</td>\n",
       "      <td>68</td>\n",
       "      <td>38</td>\n",
       "      <td>92</td>\n",
       "      <td>10</td>\n",
       "      <td>2</td>\n",
       "      <td>288</td>\n",
       "      <td>0</td>\n",
       "    </tr>\n",
       "    <tr>\n",
       "      <th>3611</th>\n",
       "      <td>Italy</td>\n",
       "      <td>Europe</td>\n",
       "      <td>NaN</td>\n",
       "      <td>2018-09</td>\n",
       "      <td>645</td>\n",
       "      <td>303</td>\n",
       "      <td>59</td>\n",
       "      <td>46</td>\n",
       "      <td>89</td>\n",
       "      <td>22</td>\n",
       "      <td>0</td>\n",
       "      <td>331</td>\n",
       "      <td>0</td>\n",
       "    </tr>\n",
       "    <tr>\n",
       "      <th>3612</th>\n",
       "      <td>Germany</td>\n",
       "      <td>Europe</td>\n",
       "      <td>NaN</td>\n",
       "      <td>2018-09</td>\n",
       "      <td>1867</td>\n",
       "      <td>2190</td>\n",
       "      <td>255</td>\n",
       "      <td>86</td>\n",
       "      <td>358</td>\n",
       "      <td>30</td>\n",
       "      <td>1</td>\n",
       "      <td>855</td>\n",
       "      <td>0</td>\n",
       "    </tr>\n",
       "    <tr>\n",
       "      <th>3613</th>\n",
       "      <td>Belgium</td>\n",
       "      <td>Europe</td>\n",
       "      <td>NaN</td>\n",
       "      <td>2018-09</td>\n",
       "      <td>219</td>\n",
       "      <td>220</td>\n",
       "      <td>43</td>\n",
       "      <td>23</td>\n",
       "      <td>76</td>\n",
       "      <td>7</td>\n",
       "      <td>2</td>\n",
       "      <td>109</td>\n",
       "      <td>0</td>\n",
       "    </tr>\n",
       "    <tr>\n",
       "      <th>3614</th>\n",
       "      <td>Mainland China</td>\n",
       "      <td>Asia</td>\n",
       "      <td>NaN</td>\n",
       "      <td>2018-09</td>\n",
       "      <td>1302</td>\n",
       "      <td>154404</td>\n",
       "      <td>4180</td>\n",
       "      <td>44</td>\n",
       "      <td>6745</td>\n",
       "      <td>11</td>\n",
       "      <td>1999</td>\n",
       "      <td>49440</td>\n",
       "      <td>0</td>\n",
       "    </tr>\n",
       "  </tbody>\n",
       "</table>\n",
       "<p>3615 rows × 13 columns</p>\n",
       "</div>"
      ],
      "text/plain": [
       "           Residence  Region Sub-Region   Period  Business  Pleasure  \\\n",
       "0           Unstated     NaN        NaN  2011-01         1         2   \n",
       "1             France  Europe        NaN  2011-01      1003       337   \n",
       "2            Germany  Europe        NaN  2011-01      1835       511   \n",
       "3              Italy  Europe        NaN  2011-01       517       144   \n",
       "4        Netherlands  Europe        NaN  2011-01       531       278   \n",
       "...              ...     ...        ...      ...       ...       ...   \n",
       "3610     Netherlands  Europe        NaN  2018-09       794       692   \n",
       "3611           Italy  Europe        NaN  2018-09       645       303   \n",
       "3612         Germany  Europe        NaN  2018-09      1867      2190   \n",
       "3613         Belgium  Europe        NaN  2018-09       219       220   \n",
       "3614  Mainland China    Asia        NaN  2018-09      1302    154404   \n",
       "\n",
       "      Visit Relatives  Conference  Study  Exhibition  Medical Treatment  \\\n",
       "0                   2           0      0           0                  0   \n",
       "1                 474          22     99           0                  0   \n",
       "2                 627          46     62           0                  0   \n",
       "3                 137          26     10           0                  0   \n",
       "4                 211          11     15           0                  0   \n",
       "...               ...         ...    ...         ...                ...   \n",
       "3610               68          38     92          10                  2   \n",
       "3611               59          46     89          22                  0   \n",
       "3612              255          86    358          30                  1   \n",
       "3613               43          23     76           7                  2   \n",
       "3614             4180          44   6745          11               1999   \n",
       "\n",
       "      Others  Unstated  \n",
       "0         14      2474  \n",
       "1        123        55  \n",
       "2        129       151  \n",
       "3         56        43  \n",
       "4         61        32  \n",
       "...      ...       ...  \n",
       "3610     288         0  \n",
       "3611     331         0  \n",
       "3612     855         0  \n",
       "3613     109         0  \n",
       "3614   49440         0  \n",
       "\n",
       "[3615 rows x 13 columns]"
      ]
     },
     "execution_count": 3,
     "metadata": {},
     "output_type": "execute_result"
    }
   ],
   "source": [
    "df = pd.read_csv(\"purpose.csv\")\n",
    "df"
   ]
  },
  {
   "cell_type": "markdown",
   "metadata": {},
   "source": [
    "<h1 id=\"header\">Section 2: Exploratory Data Analysis </h1>"
   ]
  },
  {
   "cell_type": "markdown",
   "metadata": {},
   "source": [
    "In order to prepare my dataset for EDA, I first cleaned the data. By dropping unhelpful columns, removing null values, and checking for duplicates, I ensured that the dataset was ready for analysis. Afterwards, I used descriptive statistics to find the shape of the data, ensuring it was indeed over the 200-data-point-threshold. To gain a broader glance at the overall descriptive statistics of the dataset, I used the .describe() and .info() functions to gather a lot of information about the data in a simple, concise form. To confirm this information was indeed correct, I looked further into the \"Business\" column of the dataset to confirm the mean, std, max, and min were identical to the values produced by .describe() as well as determined the countries of the Business min/max values."
   ]
  },
  {
   "cell_type": "code",
   "execution_count": 4,
   "metadata": {},
   "outputs": [
    {
     "data": {
      "text/plain": [
       "0"
      ]
     },
     "execution_count": 4,
     "metadata": {},
     "output_type": "execute_result"
    }
   ],
   "source": [
    "#now for some data cleaning!\n",
    "df1 = df.drop([\"Sub-Region\"], axis = 1)\n",
    "df1.isna().sum() #checking for null\n",
    "\n",
    "#null appears in the \"Regions\" column when someone leaves their residence \"Unstated.\" Let's drop the unstated rows since they won't be helpful.\n",
    "df_clean = df1[df1[\"Residence\"] != \"Unstated\"]\n",
    "\n",
    "#checking for duplicates\n",
    "df_clean.duplicated().sum() #none found!"
   ]
  },
  {
   "cell_type": "code",
   "execution_count": 5,
   "metadata": {},
   "outputs": [
    {
     "data": {
      "text/html": [
       "<div>\n",
       "<style scoped>\n",
       "    .dataframe tbody tr th:only-of-type {\n",
       "        vertical-align: middle;\n",
       "    }\n",
       "\n",
       "    .dataframe tbody tr th {\n",
       "        vertical-align: top;\n",
       "    }\n",
       "\n",
       "    .dataframe thead th {\n",
       "        text-align: right;\n",
       "    }\n",
       "</style>\n",
       "<table border=\"1\" class=\"dataframe\">\n",
       "  <thead>\n",
       "    <tr style=\"text-align: right;\">\n",
       "      <th></th>\n",
       "      <th>Period</th>\n",
       "      <th>Business</th>\n",
       "      <th>Pleasure</th>\n",
       "      <th>Visit Relatives</th>\n",
       "      <th>Conference</th>\n",
       "      <th>Study</th>\n",
       "      <th>Exhibition</th>\n",
       "      <th>Medical Treatment</th>\n",
       "      <th>Others</th>\n",
       "      <th>Unstated</th>\n",
       "      <th>Total_People</th>\n",
       "    </tr>\n",
       "  </thead>\n",
       "  <tbody>\n",
       "    <tr>\n",
       "      <th>0</th>\n",
       "      <td>2011-01</td>\n",
       "      <td>76283</td>\n",
       "      <td>216900</td>\n",
       "      <td>48702</td>\n",
       "      <td>4263</td>\n",
       "      <td>2158</td>\n",
       "      <td>0</td>\n",
       "      <td>0</td>\n",
       "      <td>26423</td>\n",
       "      <td>23395</td>\n",
       "      <td>398124</td>\n",
       "    </tr>\n",
       "    <tr>\n",
       "      <th>1</th>\n",
       "      <td>2011-02</td>\n",
       "      <td>70742</td>\n",
       "      <td>259818</td>\n",
       "      <td>45508</td>\n",
       "      <td>3899</td>\n",
       "      <td>15019</td>\n",
       "      <td>0</td>\n",
       "      <td>0</td>\n",
       "      <td>28941</td>\n",
       "      <td>26744</td>\n",
       "      <td>450671</td>\n",
       "    </tr>\n",
       "    <tr>\n",
       "      <th>2</th>\n",
       "      <td>2011-03</td>\n",
       "      <td>89667</td>\n",
       "      <td>316750</td>\n",
       "      <td>39590</td>\n",
       "      <td>6496</td>\n",
       "      <td>3108</td>\n",
       "      <td>0</td>\n",
       "      <td>0</td>\n",
       "      <td>48523</td>\n",
       "      <td>10918</td>\n",
       "      <td>515052</td>\n",
       "    </tr>\n",
       "    <tr>\n",
       "      <th>3</th>\n",
       "      <td>2011-04</td>\n",
       "      <td>83532</td>\n",
       "      <td>350867</td>\n",
       "      <td>40944</td>\n",
       "      <td>6978</td>\n",
       "      <td>2444</td>\n",
       "      <td>0</td>\n",
       "      <td>0</td>\n",
       "      <td>49693</td>\n",
       "      <td>12925</td>\n",
       "      <td>547383</td>\n",
       "    </tr>\n",
       "    <tr>\n",
       "      <th>4</th>\n",
       "      <td>2011-05</td>\n",
       "      <td>89321</td>\n",
       "      <td>274026</td>\n",
       "      <td>35449</td>\n",
       "      <td>6858</td>\n",
       "      <td>2715</td>\n",
       "      <td>0</td>\n",
       "      <td>0</td>\n",
       "      <td>47804</td>\n",
       "      <td>10583</td>\n",
       "      <td>466756</td>\n",
       "    </tr>\n",
       "    <tr>\n",
       "      <th>...</th>\n",
       "      <td>...</td>\n",
       "      <td>...</td>\n",
       "      <td>...</td>\n",
       "      <td>...</td>\n",
       "      <td>...</td>\n",
       "      <td>...</td>\n",
       "      <td>...</td>\n",
       "      <td>...</td>\n",
       "      <td>...</td>\n",
       "      <td>...</td>\n",
       "      <td>...</td>\n",
       "    </tr>\n",
       "    <tr>\n",
       "      <th>88</th>\n",
       "      <td>2018-05</td>\n",
       "      <td>64977</td>\n",
       "      <td>561696</td>\n",
       "      <td>39488</td>\n",
       "      <td>6351</td>\n",
       "      <td>4425</td>\n",
       "      <td>755</td>\n",
       "      <td>2416</td>\n",
       "      <td>162061</td>\n",
       "      <td>0</td>\n",
       "      <td>842169</td>\n",
       "    </tr>\n",
       "    <tr>\n",
       "      <th>89</th>\n",
       "      <td>2018-06</td>\n",
       "      <td>68812</td>\n",
       "      <td>574476</td>\n",
       "      <td>45468</td>\n",
       "      <td>6859</td>\n",
       "      <td>5125</td>\n",
       "      <td>4011</td>\n",
       "      <td>2290</td>\n",
       "      <td>149374</td>\n",
       "      <td>0</td>\n",
       "      <td>856415</td>\n",
       "    </tr>\n",
       "    <tr>\n",
       "      <th>90</th>\n",
       "      <td>2018-07</td>\n",
       "      <td>60577</td>\n",
       "      <td>573470</td>\n",
       "      <td>45384</td>\n",
       "      <td>5977</td>\n",
       "      <td>5276</td>\n",
       "      <td>968</td>\n",
       "      <td>3097</td>\n",
       "      <td>158509</td>\n",
       "      <td>0</td>\n",
       "      <td>853258</td>\n",
       "    </tr>\n",
       "    <tr>\n",
       "      <th>91</th>\n",
       "      <td>2018-08</td>\n",
       "      <td>55610</td>\n",
       "      <td>677872</td>\n",
       "      <td>38230</td>\n",
       "      <td>4708</td>\n",
       "      <td>7571</td>\n",
       "      <td>1394</td>\n",
       "      <td>2784</td>\n",
       "      <td>164961</td>\n",
       "      <td>0</td>\n",
       "      <td>953130</td>\n",
       "    </tr>\n",
       "    <tr>\n",
       "      <th>92</th>\n",
       "      <td>2018-09</td>\n",
       "      <td>62368</td>\n",
       "      <td>556302</td>\n",
       "      <td>31994</td>\n",
       "      <td>6625</td>\n",
       "      <td>13712</td>\n",
       "      <td>1317</td>\n",
       "      <td>2899</td>\n",
       "      <td>161216</td>\n",
       "      <td>0</td>\n",
       "      <td>836433</td>\n",
       "    </tr>\n",
       "  </tbody>\n",
       "</table>\n",
       "<p>93 rows × 11 columns</p>\n",
       "</div>"
      ],
      "text/plain": [
       "     Period  Business  Pleasure  Visit Relatives  Conference  Study  \\\n",
       "0   2011-01     76283    216900            48702        4263   2158   \n",
       "1   2011-02     70742    259818            45508        3899  15019   \n",
       "2   2011-03     89667    316750            39590        6496   3108   \n",
       "3   2011-04     83532    350867            40944        6978   2444   \n",
       "4   2011-05     89321    274026            35449        6858   2715   \n",
       "..      ...       ...       ...              ...         ...    ...   \n",
       "88  2018-05     64977    561696            39488        6351   4425   \n",
       "89  2018-06     68812    574476            45468        6859   5125   \n",
       "90  2018-07     60577    573470            45384        5977   5276   \n",
       "91  2018-08     55610    677872            38230        4708   7571   \n",
       "92  2018-09     62368    556302            31994        6625  13712   \n",
       "\n",
       "    Exhibition  Medical Treatment  Others  Unstated  Total_People  \n",
       "0            0                  0   26423     23395        398124  \n",
       "1            0                  0   28941     26744        450671  \n",
       "2            0                  0   48523     10918        515052  \n",
       "3            0                  0   49693     12925        547383  \n",
       "4            0                  0   47804     10583        466756  \n",
       "..         ...                ...     ...       ...           ...  \n",
       "88         755               2416  162061         0        842169  \n",
       "89        4011               2290  149374         0        856415  \n",
       "90         968               3097  158509         0        853258  \n",
       "91        1394               2784  164961         0        953130  \n",
       "92        1317               2899  161216         0        836433  \n",
       "\n",
       "[93 rows x 11 columns]"
      ]
     },
     "execution_count": 5,
     "metadata": {},
     "output_type": "execute_result"
    }
   ],
   "source": [
    "#adding column to show total # of people from each country who travelled to Taiwan\n",
    "df_grouped = df_clean.groupby([\"Period\"]).agg(sum).reset_index()\n",
    "df_final = df_grouped.drop([\"Residence\", \"Region\"], axis = 1)\n",
    "df_final[\"Total_People\"] = df_final[\"Business\"] + df_final[\"Pleasure\"] + df_final[\"Visit Relatives\"] + df_final[\"Conference\"] + df_final[\"Study\"] + df_final[\"Exhibition\"] + df_final[\"Medical Treatment\"] + df_final[\"Others\"] + df_final[\"Unstated\"]\n",
    "df_final"
   ]
  },
  {
   "cell_type": "code",
   "execution_count": 6,
   "metadata": {},
   "outputs": [
    {
     "data": {
      "text/plain": [
       "(93, 11)"
      ]
     },
     "execution_count": 6,
     "metadata": {},
     "output_type": "execute_result"
    }
   ],
   "source": [
    "df_final.shape #over the 200 data-point threshold!"
   ]
  },
  {
   "cell_type": "code",
   "execution_count": 7,
   "metadata": {},
   "outputs": [
    {
     "data": {
      "text/html": [
       "<div>\n",
       "<style scoped>\n",
       "    .dataframe tbody tr th:only-of-type {\n",
       "        vertical-align: middle;\n",
       "    }\n",
       "\n",
       "    .dataframe tbody tr th {\n",
       "        vertical-align: top;\n",
       "    }\n",
       "\n",
       "    .dataframe thead th {\n",
       "        text-align: right;\n",
       "    }\n",
       "</style>\n",
       "<table border=\"1\" class=\"dataframe\">\n",
       "  <thead>\n",
       "    <tr style=\"text-align: right;\">\n",
       "      <th></th>\n",
       "      <th>Business</th>\n",
       "      <th>Pleasure</th>\n",
       "      <th>Visit Relatives</th>\n",
       "      <th>Conference</th>\n",
       "      <th>Study</th>\n",
       "      <th>Exhibition</th>\n",
       "      <th>Medical Treatment</th>\n",
       "      <th>Others</th>\n",
       "      <th>Unstated</th>\n",
       "      <th>Total_People</th>\n",
       "    </tr>\n",
       "  </thead>\n",
       "  <tbody>\n",
       "    <tr>\n",
       "      <th>count</th>\n",
       "      <td>93.000000</td>\n",
       "      <td>93.000000</td>\n",
       "      <td>93.000000</td>\n",
       "      <td>93.000000</td>\n",
       "      <td>93.000000</td>\n",
       "      <td>93.000000</td>\n",
       "      <td>93.000000</td>\n",
       "      <td>93.000000</td>\n",
       "      <td>93.000000</td>\n",
       "      <td>9.300000e+01</td>\n",
       "    </tr>\n",
       "    <tr>\n",
       "      <th>mean</th>\n",
       "      <td>68315.053763</td>\n",
       "      <td>527351.086022</td>\n",
       "      <td>37147.677419</td>\n",
       "      <td>5480.279570</td>\n",
       "      <td>5598.892473</td>\n",
       "      <td>1107.290323</td>\n",
       "      <td>4088.010753</td>\n",
       "      <td>111947.731183</td>\n",
       "      <td>2307.494624</td>\n",
       "      <td>7.633435e+05</td>\n",
       "    </tr>\n",
       "    <tr>\n",
       "      <th>std</th>\n",
       "      <td>11376.633349</td>\n",
       "      <td>139393.492802</td>\n",
       "      <td>6177.676796</td>\n",
       "      <td>1762.815037</td>\n",
       "      <td>4024.601270</td>\n",
       "      <td>1014.157174</td>\n",
       "      <td>2979.619225</td>\n",
       "      <td>44005.108649</td>\n",
       "      <td>6286.655338</td>\n",
       "      <td>1.623860e+05</td>\n",
       "    </tr>\n",
       "    <tr>\n",
       "      <th>min</th>\n",
       "      <td>41646.000000</td>\n",
       "      <td>216900.000000</td>\n",
       "      <td>26298.000000</td>\n",
       "      <td>2052.000000</td>\n",
       "      <td>2158.000000</td>\n",
       "      <td>0.000000</td>\n",
       "      <td>0.000000</td>\n",
       "      <td>26423.000000</td>\n",
       "      <td>0.000000</td>\n",
       "      <td>3.981240e+05</td>\n",
       "    </tr>\n",
       "    <tr>\n",
       "      <th>25%</th>\n",
       "      <td>59713.000000</td>\n",
       "      <td>416951.000000</td>\n",
       "      <td>32179.000000</td>\n",
       "      <td>4485.000000</td>\n",
       "      <td>2918.000000</td>\n",
       "      <td>467.000000</td>\n",
       "      <td>2449.000000</td>\n",
       "      <td>74326.000000</td>\n",
       "      <td>0.000000</td>\n",
       "      <td>6.311560e+05</td>\n",
       "    </tr>\n",
       "    <tr>\n",
       "      <th>50%</th>\n",
       "      <td>67344.000000</td>\n",
       "      <td>570401.000000</td>\n",
       "      <td>36383.000000</td>\n",
       "      <td>5127.000000</td>\n",
       "      <td>3978.000000</td>\n",
       "      <td>823.000000</td>\n",
       "      <td>3116.000000</td>\n",
       "      <td>120592.000000</td>\n",
       "      <td>0.000000</td>\n",
       "      <td>8.169720e+05</td>\n",
       "    </tr>\n",
       "    <tr>\n",
       "      <th>75%</th>\n",
       "      <td>76926.000000</td>\n",
       "      <td>625114.000000</td>\n",
       "      <td>41605.000000</td>\n",
       "      <td>6496.000000</td>\n",
       "      <td>5954.000000</td>\n",
       "      <td>1498.000000</td>\n",
       "      <td>5514.000000</td>\n",
       "      <td>141023.000000</td>\n",
       "      <td>0.000000</td>\n",
       "      <td>8.704120e+05</td>\n",
       "    </tr>\n",
       "    <tr>\n",
       "      <th>max</th>\n",
       "      <td>91812.000000</td>\n",
       "      <td>838364.000000</td>\n",
       "      <td>52402.000000</td>\n",
       "      <td>12532.000000</td>\n",
       "      <td>17581.000000</td>\n",
       "      <td>4679.000000</td>\n",
       "      <td>13307.000000</td>\n",
       "      <td>276682.000000</td>\n",
       "      <td>26744.000000</td>\n",
       "      <td>1.112053e+06</td>\n",
       "    </tr>\n",
       "  </tbody>\n",
       "</table>\n",
       "</div>"
      ],
      "text/plain": [
       "           Business       Pleasure  Visit Relatives    Conference  \\\n",
       "count     93.000000      93.000000        93.000000     93.000000   \n",
       "mean   68315.053763  527351.086022     37147.677419   5480.279570   \n",
       "std    11376.633349  139393.492802      6177.676796   1762.815037   \n",
       "min    41646.000000  216900.000000     26298.000000   2052.000000   \n",
       "25%    59713.000000  416951.000000     32179.000000   4485.000000   \n",
       "50%    67344.000000  570401.000000     36383.000000   5127.000000   \n",
       "75%    76926.000000  625114.000000     41605.000000   6496.000000   \n",
       "max    91812.000000  838364.000000     52402.000000  12532.000000   \n",
       "\n",
       "              Study   Exhibition  Medical Treatment         Others  \\\n",
       "count     93.000000    93.000000          93.000000      93.000000   \n",
       "mean    5598.892473  1107.290323        4088.010753  111947.731183   \n",
       "std     4024.601270  1014.157174        2979.619225   44005.108649   \n",
       "min     2158.000000     0.000000           0.000000   26423.000000   \n",
       "25%     2918.000000   467.000000        2449.000000   74326.000000   \n",
       "50%     3978.000000   823.000000        3116.000000  120592.000000   \n",
       "75%     5954.000000  1498.000000        5514.000000  141023.000000   \n",
       "max    17581.000000  4679.000000       13307.000000  276682.000000   \n",
       "\n",
       "           Unstated  Total_People  \n",
       "count     93.000000  9.300000e+01  \n",
       "mean    2307.494624  7.633435e+05  \n",
       "std     6286.655338  1.623860e+05  \n",
       "min        0.000000  3.981240e+05  \n",
       "25%        0.000000  6.311560e+05  \n",
       "50%        0.000000  8.169720e+05  \n",
       "75%        0.000000  8.704120e+05  \n",
       "max    26744.000000  1.112053e+06  "
      ]
     },
     "execution_count": 7,
     "metadata": {},
     "output_type": "execute_result"
    }
   ],
   "source": [
    "df_final.describe()"
   ]
  },
  {
   "cell_type": "code",
   "execution_count": 8,
   "metadata": {},
   "outputs": [
    {
     "name": "stdout",
     "output_type": "stream",
     "text": [
      "<class 'pandas.core.frame.DataFrame'>\n",
      "RangeIndex: 93 entries, 0 to 92\n",
      "Data columns (total 11 columns):\n",
      " #   Column             Non-Null Count  Dtype \n",
      "---  ------             --------------  ----- \n",
      " 0   Period             93 non-null     object\n",
      " 1   Business           93 non-null     int64 \n",
      " 2   Pleasure           93 non-null     int64 \n",
      " 3   Visit Relatives    93 non-null     int64 \n",
      " 4   Conference         93 non-null     int64 \n",
      " 5   Study              93 non-null     int64 \n",
      " 6   Exhibition         93 non-null     int64 \n",
      " 7   Medical Treatment  93 non-null     int64 \n",
      " 8   Others             93 non-null     int64 \n",
      " 9   Unstated           93 non-null     int64 \n",
      " 10  Total_People       93 non-null     int64 \n",
      "dtypes: int64(10), object(1)\n",
      "memory usage: 8.1+ KB\n"
     ]
    }
   ],
   "source": [
    "df_final.info()"
   ]
  },
  {
   "cell_type": "code",
   "execution_count": 9,
   "metadata": {},
   "outputs": [
    {
     "name": "stdout",
     "output_type": "stream",
     "text": [
      "Dataset Time Range: 2011-01 - 2018-09\n"
     ]
    }
   ],
   "source": [
    "print(\"Dataset Time Range:\", df_final[\"Period\"].min(), \"-\" , df_final[\"Period\"].max())"
   ]
  },
  {
   "cell_type": "code",
   "execution_count": 10,
   "metadata": {},
   "outputs": [
    {
     "name": "stdout",
     "output_type": "stream",
     "text": [
      "Mean of those travelling to Taiwan for business per month: 68315.05376344085\n",
      "Standard Deviation of those travelling to Taiwan for business per month: 11376.63334892066\n",
      "In the most popular business travel time-period, how many business travelers were headed to Taiwan? 91812\n",
      "In the least popular business travel time-period, how many business travelers were headed to Taiwan? 41646\n"
     ]
    }
   ],
   "source": [
    "#Let's look into those going to Taiwan for business\n",
    "m1 = df_final[\"Business\"].mean()\n",
    "std1 = df_final[\"Business\"].std()\n",
    "max_time = df_final[\"Business\"].max()\n",
    "min_time = df_final[\"Business\"].min()\n",
    "print(\"Mean of those travelling to Taiwan for business per month:\", m1)\n",
    "print(\"Standard Deviation of those travelling to Taiwan for business per month:\", std1)\n",
    "print(\"In the most popular business travel time-period, how many business travelers were headed to Taiwan?\", max_time)\n",
    "print(\"In the least popular business travel time-period, how many business travelers were headed to Taiwan?\", min_time)"
   ]
  },
  {
   "cell_type": "code",
   "execution_count": 11,
   "metadata": {},
   "outputs": [
    {
     "name": "stdout",
     "output_type": "stream",
     "text": [
      "The least number of business travelers to Taiwan from a single country over a month (with date): 85    2018-02\n",
      "The most number business travelers to Taiwan from a single country over a month: 10    2011-11\n"
     ]
    }
   ],
   "source": [
    "min_time_tot = df_final[\"Period\"][df_final[\"Business\"] == min_time]\n",
    "max_time_tot = df_final[\"Period\"][df_final[\"Business\"] == max_time]\n",
    "print(\"The least number of business travelers to Taiwan from a single country over a month (with date):\", str(min_time_tot).strip(\"\\n'Name: Period, dtype: object'\"))\n",
    "print(\"The most number business travelers to Taiwan from a single country over a month:\", str(max_time_tot).strip(\"\\n'Name: Period, dtype: object'\"))"
   ]
  },
  {
   "cell_type": "markdown",
   "metadata": {},
   "source": [
    "<h1 id=\"header\">Section 3: Exploratory Data Visualization</h1>"
   ]
  },
  {
   "cell_type": "markdown",
   "metadata": {},
   "source": [
    "In my EDA, I examined the range of dates in the dataset, finding that data was collected every month between January 2011 and September 2018. Furthermore, I looked at the minimum and maximum numbers of business travelers for the dataset range. Thus, the plot below seeks to demonstrate the relationship (if any) between the date and the number of business travelers to Taiwan. There is a clear negative correlation between the two variables, with the number of business travelers decreasing as time goes on. Note: the Date is fomatted YearMonth, so 201106 is June 2011."
   ]
  },
  {
   "cell_type": "code",
   "execution_count": 12,
   "metadata": {},
   "outputs": [
    {
     "data": {
      "image/png": "[encoded data removed]",
      "text/plain": [
       "<Figure size 640x480 with 1 Axes>"
      ]
     },
     "metadata": {},
     "output_type": "display_data"
    },
    {
     "data": {
      "text/plain": [
       "<Figure size 750x350 with 0 Axes>"
      ]
     },
     "metadata": {},
     "output_type": "display_data"
    }
   ],
   "source": [
    "plt.scatter( x = df_final[\"Period\"], y = df_final[\"Business\"])\n",
    "plt.xlabel(\"Date\")\n",
    "plt.ylabel(\"Business Travelers to Taiwan\")\n",
    "\n",
    "labels = []\n",
    "for i in df_final[\"Period\"]:\n",
    "    if i.__contains__('06'):\n",
    "        i = i\n",
    "    else:\n",
    "        i=' '\n",
    "    labels.append(i)\n",
    "plt.xticks(ticks= df_final[\"Period\"], labels = labels) \n",
    "plt.xticks(rotation=90)\n",
    "\n",
    "plt.rcParams[\"figure.figsize\"] = [7.50, 3.50]\n",
    "plt.rcParams[\"figure.autolayout\"] = True\n",
    "fig = plt.figure()\n",
    "spacing = 0.100\n",
    "fig.subplots_adjust(bottom=spacing)\n",
    "plt.show()"
   ]
  },
  {
   "cell_type": "markdown",
   "metadata": {},
   "source": [
    "<h1 id=\"header\">Section 4: Data Science</h1>"
   ]
  },
  {
   "cell_type": "markdown",
   "metadata": {},
   "source": [
    "Since the relationship between the date and the number of business travelers to Taiwan appeared negatively correlated, I would like to explore the overall relationship between date and number of travelers. That is, as time goes on, is there a significant difference in the amount of travelers per month to Taiwan? \n",
    "Creating similar visualizations to the one displayed in Section 3 will help evaluate whether or not a relationship exists. Furthermore, I will use machine learning to try and predict the number of Taiwan travelers for a certain day during the collection period. This will be conducted through linear regression assuming there exists a significant relationship.\n",
    "\n",
    "Hypothesis (null): There exists no significant relationship between date and total number of travelers.\n",
    "\n",
    "Hypothesis (alternative): There exists a significant relationship between date and total number of travelers."
   ]
  },
  {
   "cell_type": "code",
   "execution_count": 13,
   "metadata": {},
   "outputs": [
    {
     "data": {
      "image/png": "[encoded data removed]",
      "text/plain": [
       "<Figure size 750x350 with 1 Axes>"
      ]
     },
     "metadata": {},
     "output_type": "display_data"
    },
    {
     "data": {
      "text/plain": [
       "<Figure size 750x350 with 0 Axes>"
      ]
     },
     "metadata": {},
     "output_type": "display_data"
    }
   ],
   "source": [
    "df_final['Period'] = df_final['Period'].replace({'-':'.'}, regex=True)\n",
    "\n",
    "plt.scatter( x = df_final[\"Period\"], y = df_final[\"Total_People\"])\n",
    "plt.xlabel(\"Date\")\n",
    "plt.ylabel(\"Travelers to Taiwan (in millions)\")\n",
    "\n",
    "labels = []\n",
    "for i in df_final[\"Period\"]:\n",
    "    if i.__contains__('.01'):\n",
    "        i = i\n",
    "    else:\n",
    "        i=' '\n",
    "    labels.append(i)\n",
    "plt.xticks(ticks= df_final[\"Period\"], labels = labels) \n",
    "plt.xticks(rotation=90)\n",
    "\n",
    "plt.rcParams[\"figure.figsize\"] = [7.50, 3.50]\n",
    "plt.rcParams[\"figure.autolayout\"] = True\n",
    "fig = plt.figure()\n",
    "spacing = 0.100\n",
    "fig.subplots_adjust(bottom=spacing)\n",
    "plt.show()"
   ]
  },
  {
   "cell_type": "markdown",
   "metadata": {},
   "source": [
    "From the graph alone, there appears to be a positive correlation between the date and the number of travelers! This is particularly interesting given the results of the business travelers graph (Section 3), and potentially indicates a shift towards other types of travel over time. First though, let's verify the relationship between total travelers and date."
   ]
  },
  {
   "cell_type": "code",
   "execution_count": 14,
   "metadata": {},
   "outputs": [
    {
     "name": "stdout",
     "output_type": "stream",
     "text": [
      "Max: 1112053 Min: 398124 Mean: 763343.5161290322\n"
     ]
    }
   ],
   "source": [
    "print(\"Max:\", df_final[\"Total_People\"].max(), \"Min:\", df_final[\"Total_People\"].min(), \"Mean:\", df_final[\"Total_People\"].mean())\n",
    "#These values align with what we see on the graph!"
   ]
  },
  {
   "cell_type": "code",
   "execution_count": 15,
   "metadata": {},
   "outputs": [
    {
     "data": {
      "text/html": [
       "<div>\n",
       "<style scoped>\n",
       "    .dataframe tbody tr th:only-of-type {\n",
       "        vertical-align: middle;\n",
       "    }\n",
       "\n",
       "    .dataframe tbody tr th {\n",
       "        vertical-align: top;\n",
       "    }\n",
       "\n",
       "    .dataframe thead th {\n",
       "        text-align: right;\n",
       "    }\n",
       "</style>\n",
       "<table border=\"1\" class=\"dataframe\">\n",
       "  <thead>\n",
       "    <tr style=\"text-align: right;\">\n",
       "      <th></th>\n",
       "      <th>Period</th>\n",
       "      <th>Business</th>\n",
       "      <th>Pleasure</th>\n",
       "      <th>Visit Relatives</th>\n",
       "      <th>Conference</th>\n",
       "      <th>Study</th>\n",
       "      <th>Exhibition</th>\n",
       "      <th>Medical Treatment</th>\n",
       "      <th>Others</th>\n",
       "      <th>Unstated</th>\n",
       "      <th>Total_People</th>\n",
       "    </tr>\n",
       "  </thead>\n",
       "  <tbody>\n",
       "    <tr>\n",
       "      <th>Period</th>\n",
       "      <td>1.000000</td>\n",
       "      <td>-0.637895</td>\n",
       "      <td>0.774180</td>\n",
       "      <td>-0.111023</td>\n",
       "      <td>-0.122177</td>\n",
       "      <td>0.086693</td>\n",
       "      <td>0.262323</td>\n",
       "      <td>-0.047230</td>\n",
       "      <td>0.857139</td>\n",
       "      <td>-0.558496</td>\n",
       "      <td>0.827898</td>\n",
       "    </tr>\n",
       "    <tr>\n",
       "      <th>Business</th>\n",
       "      <td>-0.637895</td>\n",
       "      <td>1.000000</td>\n",
       "      <td>-0.550876</td>\n",
       "      <td>-0.100001</td>\n",
       "      <td>0.574935</td>\n",
       "      <td>-0.247157</td>\n",
       "      <td>0.218089</td>\n",
       "      <td>0.050355</td>\n",
       "      <td>-0.663507</td>\n",
       "      <td>0.413219</td>\n",
       "      <td>-0.568027</td>\n",
       "    </tr>\n",
       "    <tr>\n",
       "      <th>Pleasure</th>\n",
       "      <td>0.774180</td>\n",
       "      <td>-0.550876</td>\n",
       "      <td>1.000000</td>\n",
       "      <td>-0.140951</td>\n",
       "      <td>-0.037520</td>\n",
       "      <td>-0.154163</td>\n",
       "      <td>0.259862</td>\n",
       "      <td>0.184360</td>\n",
       "      <td>0.716328</td>\n",
       "      <td>-0.598754</td>\n",
       "      <td>0.986168</td>\n",
       "    </tr>\n",
       "    <tr>\n",
       "      <th>Visit Relatives</th>\n",
       "      <td>-0.111023</td>\n",
       "      <td>-0.100001</td>\n",
       "      <td>-0.140951</td>\n",
       "      <td>1.000000</td>\n",
       "      <td>-0.212126</td>\n",
       "      <td>-0.127874</td>\n",
       "      <td>-0.178922</td>\n",
       "      <td>-0.264191</td>\n",
       "      <td>-0.224262</td>\n",
       "      <td>0.305082</td>\n",
       "      <td>-0.150356</td>\n",
       "    </tr>\n",
       "    <tr>\n",
       "      <th>Conference</th>\n",
       "      <td>-0.122177</td>\n",
       "      <td>0.574935</td>\n",
       "      <td>-0.037520</td>\n",
       "      <td>-0.212126</td>\n",
       "      <td>1.000000</td>\n",
       "      <td>-0.198216</td>\n",
       "      <td>0.116429</td>\n",
       "      <td>-0.105856</td>\n",
       "      <td>-0.098605</td>\n",
       "      <td>0.269144</td>\n",
       "      <td>-0.011571</td>\n",
       "    </tr>\n",
       "    <tr>\n",
       "      <th>Study</th>\n",
       "      <td>0.086693</td>\n",
       "      <td>-0.247157</td>\n",
       "      <td>-0.154163</td>\n",
       "      <td>-0.127874</td>\n",
       "      <td>-0.198216</td>\n",
       "      <td>1.000000</td>\n",
       "      <td>-0.130498</td>\n",
       "      <td>-0.084899</td>\n",
       "      <td>0.094696</td>\n",
       "      <td>0.014542</td>\n",
       "      <td>-0.108031</td>\n",
       "    </tr>\n",
       "    <tr>\n",
       "      <th>Exhibition</th>\n",
       "      <td>0.262323</td>\n",
       "      <td>0.218089</td>\n",
       "      <td>0.259862</td>\n",
       "      <td>-0.178922</td>\n",
       "      <td>0.116429</td>\n",
       "      <td>-0.130498</td>\n",
       "      <td>1.000000</td>\n",
       "      <td>0.266872</td>\n",
       "      <td>0.210083</td>\n",
       "      <td>-0.405109</td>\n",
       "      <td>0.281959</td>\n",
       "    </tr>\n",
       "    <tr>\n",
       "      <th>Medical Treatment</th>\n",
       "      <td>-0.047230</td>\n",
       "      <td>0.050355</td>\n",
       "      <td>0.184360</td>\n",
       "      <td>-0.264191</td>\n",
       "      <td>-0.105856</td>\n",
       "      <td>-0.084899</td>\n",
       "      <td>0.266872</td>\n",
       "      <td>1.000000</td>\n",
       "      <td>0.016682</td>\n",
       "      <td>-0.509058</td>\n",
       "      <td>0.153308</td>\n",
       "    </tr>\n",
       "    <tr>\n",
       "      <th>Others</th>\n",
       "      <td>0.857139</td>\n",
       "      <td>-0.663507</td>\n",
       "      <td>0.716328</td>\n",
       "      <td>-0.224262</td>\n",
       "      <td>-0.098605</td>\n",
       "      <td>0.094696</td>\n",
       "      <td>0.210083</td>\n",
       "      <td>0.016682</td>\n",
       "      <td>1.000000</td>\n",
       "      <td>-0.551547</td>\n",
       "      <td>0.812419</td>\n",
       "    </tr>\n",
       "    <tr>\n",
       "      <th>Unstated</th>\n",
       "      <td>-0.558496</td>\n",
       "      <td>0.413219</td>\n",
       "      <td>-0.598754</td>\n",
       "      <td>0.305082</td>\n",
       "      <td>0.269144</td>\n",
       "      <td>0.014542</td>\n",
       "      <td>-0.405109</td>\n",
       "      <td>-0.509058</td>\n",
       "      <td>-0.551547</td>\n",
       "      <td>1.000000</td>\n",
       "      <td>-0.592758</td>\n",
       "    </tr>\n",
       "    <tr>\n",
       "      <th>Total_People</th>\n",
       "      <td>0.827898</td>\n",
       "      <td>-0.568027</td>\n",
       "      <td>0.986168</td>\n",
       "      <td>-0.150356</td>\n",
       "      <td>-0.011571</td>\n",
       "      <td>-0.108031</td>\n",
       "      <td>0.281959</td>\n",
       "      <td>0.153308</td>\n",
       "      <td>0.812419</td>\n",
       "      <td>-0.592758</td>\n",
       "      <td>1.000000</td>\n",
       "    </tr>\n",
       "  </tbody>\n",
       "</table>\n",
       "</div>"
      ],
      "text/plain": [
       "                     Period  Business  Pleasure  Visit Relatives  Conference  \\\n",
       "Period             1.000000 -0.637895  0.774180        -0.111023   -0.122177   \n",
       "Business          -0.637895  1.000000 -0.550876        -0.100001    0.574935   \n",
       "Pleasure           0.774180 -0.550876  1.000000        -0.140951   -0.037520   \n",
       "Visit Relatives   -0.111023 -0.100001 -0.140951         1.000000   -0.212126   \n",
       "Conference        -0.122177  0.574935 -0.037520        -0.212126    1.000000   \n",
       "Study              0.086693 -0.247157 -0.154163        -0.127874   -0.198216   \n",
       "Exhibition         0.262323  0.218089  0.259862        -0.178922    0.116429   \n",
       "Medical Treatment -0.047230  0.050355  0.184360        -0.264191   -0.105856   \n",
       "Others             0.857139 -0.663507  0.716328        -0.224262   -0.098605   \n",
       "Unstated          -0.558496  0.413219 -0.598754         0.305082    0.269144   \n",
       "Total_People       0.827898 -0.568027  0.986168        -0.150356   -0.011571   \n",
       "\n",
       "                      Study  Exhibition  Medical Treatment    Others  \\\n",
       "Period             0.086693    0.262323          -0.047230  0.857139   \n",
       "Business          -0.247157    0.218089           0.050355 -0.663507   \n",
       "Pleasure          -0.154163    0.259862           0.184360  0.716328   \n",
       "Visit Relatives   -0.127874   -0.178922          -0.264191 -0.224262   \n",
       "Conference        -0.198216    0.116429          -0.105856 -0.098605   \n",
       "Study              1.000000   -0.130498          -0.084899  0.094696   \n",
       "Exhibition        -0.130498    1.000000           0.266872  0.210083   \n",
       "Medical Treatment -0.084899    0.266872           1.000000  0.016682   \n",
       "Others             0.094696    0.210083           0.016682  1.000000   \n",
       "Unstated           0.014542   -0.405109          -0.509058 -0.551547   \n",
       "Total_People      -0.108031    0.281959           0.153308  0.812419   \n",
       "\n",
       "                   Unstated  Total_People  \n",
       "Period            -0.558496      0.827898  \n",
       "Business           0.413219     -0.568027  \n",
       "Pleasure          -0.598754      0.986168  \n",
       "Visit Relatives    0.305082     -0.150356  \n",
       "Conference         0.269144     -0.011571  \n",
       "Study              0.014542     -0.108031  \n",
       "Exhibition        -0.405109      0.281959  \n",
       "Medical Treatment -0.509058      0.153308  \n",
       "Others            -0.551547      0.812419  \n",
       "Unstated           1.000000     -0.592758  \n",
       "Total_People      -0.592758      1.000000  "
      ]
     },
     "execution_count": 15,
     "metadata": {},
     "output_type": "execute_result"
    }
   ],
   "source": [
    "df_final.corr()"
   ]
  },
  {
   "cell_type": "markdown",
   "metadata": {},
   "source": [
    "Looking at the intersection of Period and Total_People above, there exists a correlation coefficient of 0.827898. This confirms our hypothesis that there is a significant relationship between the two variables, as 0.827898 indicates a significantly positive correlation. While this is not a perfect correlation, it is strong and linear. Thus, we can reject the null hypothesis. \n",
    "\n",
    "\n",
    "Moving on, let's use machine learning to train a model to predict the number of travelers to Taiwan in any particular month in the collection period. To avoid extrapolation, dates before January 2011 or after September 2018 will not be predicted."
   ]
  },
  {
   "cell_type": "code",
   "execution_count": 16,
   "metadata": {},
   "outputs": [],
   "source": [
    "from sklearn.model_selection import train_test_split\n",
    "from sklearn.linear_model import LinearRegression\n",
    "from sklearn import metrics"
   ]
  },
  {
   "cell_type": "code",
   "execution_count": 17,
   "metadata": {},
   "outputs": [],
   "source": [
    "y = df_final[\"Total_People\"]\n",
    "X = df_final[[\"Period\"]].astype(float)\n",
    "\n",
    "X_train, X_val, y_train, y_val = train_test_split(X, y, test_size = 0.2, random_state = 0)"
   ]
  },
  {
   "cell_type": "code",
   "execution_count": 18,
   "metadata": {},
   "outputs": [
    {
     "data": {
      "text/html": [
       "<style>#sk-container-id-1 {color: black;}#sk-container-id-1 pre{padding: 0;}#sk-container-id-1 div.sk-toggleable {background-color: white;}#sk-container-id-1 label.sk-toggleable__label {cursor: pointer;display: block;width: 100%;margin-bottom: 0;padding: 0.3em;box-sizing: border-box;text-align: center;}#sk-container-id-1 label.sk-toggleable__label-arrow:before {content: \"▸\";float: left;margin-right: 0.25em;color: #696969;}#sk-container-id-1 label.sk-toggleable__label-arrow:hover:before {color: black;}#sk-container-id-1 div.sk-estimator:hover label.sk-toggleable__label-arrow:before {color: black;}#sk-container-id-1 div.sk-toggleable__content {max-height: 0;max-width: 0;overflow: hidden;text-align: left;background-color: #f0f8ff;}#sk-container-id-1 div.sk-toggleable__content pre {margin: 0.2em;color: black;border-radius: 0.25em;background-color: #f0f8ff;}#sk-container-id-1 input.sk-toggleable__control:checked~div.sk-toggleable__content {max-height: 200px;max-width: 100%;overflow: auto;}#sk-container-id-1 input.sk-toggleable__control:checked~label.sk-toggleable__label-arrow:before {content: \"▾\";}#sk-container-id-1 div.sk-estimator input.sk-toggleable__control:checked~label.sk-toggleable__label {background-color: #d4ebff;}#sk-container-id-1 div.sk-label input.sk-toggleable__control:checked~label.sk-toggleable__label {background-color: #d4ebff;}#sk-container-id-1 input.sk-hidden--visually {border: 0;clip: rect(1px 1px 1px 1px);clip: rect(1px, 1px, 1px, 1px);height: 1px;margin: -1px;overflow: hidden;padding: 0;position: absolute;width: 1px;}#sk-container-id-1 div.sk-estimator {font-family: monospace;background-color: #f0f8ff;border: 1px dotted black;border-radius: 0.25em;box-sizing: border-box;margin-bottom: 0.5em;}#sk-container-id-1 div.sk-estimator:hover {background-color: #d4ebff;}#sk-container-id-1 div.sk-parallel-item::after {content: \"\";width: 100%;border-bottom: 1px solid gray;flex-grow: 1;}#sk-container-id-1 div.sk-label:hover label.sk-toggleable__label {background-color: #d4ebff;}#sk-container-id-1 div.sk-serial::before {content: \"\";position: absolute;border-left: 1px solid gray;box-sizing: border-box;top: 0;bottom: 0;left: 50%;z-index: 0;}#sk-container-id-1 div.sk-serial {display: flex;flex-direction: column;align-items: center;background-color: white;padding-right: 0.2em;padding-left: 0.2em;position: relative;}#sk-container-id-1 div.sk-item {position: relative;z-index: 1;}#sk-container-id-1 div.sk-parallel {display: flex;align-items: stretch;justify-content: center;background-color: white;position: relative;}#sk-container-id-1 div.sk-item::before, #sk-container-id-1 div.sk-parallel-item::before {content: \"\";position: absolute;border-left: 1px solid gray;box-sizing: border-box;top: 0;bottom: 0;left: 50%;z-index: -1;}#sk-container-id-1 div.sk-parallel-item {display: flex;flex-direction: column;z-index: 1;position: relative;background-color: white;}#sk-container-id-1 div.sk-parallel-item:first-child::after {align-self: flex-end;width: 50%;}#sk-container-id-1 div.sk-parallel-item:last-child::after {align-self: flex-start;width: 50%;}#sk-container-id-1 div.sk-parallel-item:only-child::after {width: 0;}#sk-container-id-1 div.sk-dashed-wrapped {border: 1px dashed gray;margin: 0 0.4em 0.5em 0.4em;box-sizing: border-box;padding-bottom: 0.4em;background-color: white;}#sk-container-id-1 div.sk-label label {font-family: monospace;font-weight: bold;display: inline-block;line-height: 1.2em;}#sk-container-id-1 div.sk-label-container {text-align: center;}#sk-container-id-1 div.sk-container {/* jupyter's `normalize.less` sets `[hidden] { display: none; }` but bootstrap.min.css set `[hidden] { display: none !important; }` so we also need the `!important` here to be able to override the default hidden behavior on the sphinx rendered scikit-learn.org. See: https://github.com/scikit-learn/scikit-learn/issues/21755 */display: inline-block !important;position: relative;}#sk-container-id-1 div.sk-text-repr-fallback {display: none;}</style><div id=\"sk-container-id-1\" class=\"sk-top-container\"><div class=\"sk-text-repr-fallback\"><pre>LinearRegression()</pre><b>In a Jupyter environment, please rerun this cell to show the HTML representation or trust the notebook. <br />On GitHub, the HTML representation is unable to render, please try loading this page with nbviewer.org.</b></div><div class=\"sk-container\" hidden><div class=\"sk-item\"><div class=\"sk-estimator sk-toggleable\"><input class=\"sk-toggleable__control sk-hidden--visually\" id=\"sk-estimator-id-1\" type=\"checkbox\" checked><label for=\"sk-estimator-id-1\" class=\"sk-toggleable__label sk-toggleable__label-arrow\">LinearRegression</label><div class=\"sk-toggleable__content\"><pre>LinearRegression()</pre></div></div></div></div></div>"
      ],
      "text/plain": [
       "LinearRegression()"
      ]
     },
     "execution_count": 18,
     "metadata": {},
     "output_type": "execute_result"
    }
   ],
   "source": [
    "model = LinearRegression() #brings the model in\n",
    "model.fit(X_train, y_train)"
   ]
  },
  {
   "cell_type": "code",
   "execution_count": 19,
   "metadata": {},
   "outputs": [
    {
     "data": {
      "text/plain": [
       "array([564046.78388661, 682526.87214804, 799264.60617031, 623286.82801732,\n",
       "       621544.47377819, 796941.4671848 , 853858.37233   , 742347.70102513,\n",
       "       684269.22638717, 914259.98595345, 914840.77069984, 566950.70761852,\n",
       "       799845.39091669, 856762.29606189, 741186.13153237, 801587.74515583,\n",
       "       567531.4923649 , 626771.5364956 , 857923.86555465])"
      ]
     },
     "execution_count": 19,
     "metadata": {},
     "output_type": "execute_result"
    }
   ],
   "source": [
    "y_pred = model.predict(X_val)\n",
    "y_pred"
   ]
  },
  {
   "cell_type": "code",
   "execution_count": 20,
   "metadata": {},
   "outputs": [
    {
     "data": {
      "text/html": [
       "<div>\n",
       "<style scoped>\n",
       "    .dataframe tbody tr th:only-of-type {\n",
       "        vertical-align: middle;\n",
       "    }\n",
       "\n",
       "    .dataframe tbody tr th {\n",
       "        vertical-align: top;\n",
       "    }\n",
       "\n",
       "    .dataframe thead th {\n",
       "        text-align: right;\n",
       "    }\n",
       "</style>\n",
       "<table border=\"1\" class=\"dataframe\">\n",
       "  <thead>\n",
       "    <tr style=\"text-align: right;\">\n",
       "      <th></th>\n",
       "      <th>0</th>\n",
       "      <th>1</th>\n",
       "      <th>2</th>\n",
       "      <th>3</th>\n",
       "      <th>4</th>\n",
       "      <th>5</th>\n",
       "      <th>6</th>\n",
       "      <th>7</th>\n",
       "      <th>8</th>\n",
       "      <th>9</th>\n",
       "      <th>10</th>\n",
       "      <th>11</th>\n",
       "      <th>12</th>\n",
       "      <th>13</th>\n",
       "      <th>14</th>\n",
       "      <th>15</th>\n",
       "      <th>16</th>\n",
       "      <th>17</th>\n",
       "      <th>18</th>\n",
       "    </tr>\n",
       "  </thead>\n",
       "  <tbody>\n",
       "    <tr>\n",
       "      <th>0</th>\n",
       "      <td>515052.000000</td>\n",
       "      <td>629357.000000</td>\n",
       "      <td>894149.00000</td>\n",
       "      <td>597285.000000</td>\n",
       "      <td>522652.000000</td>\n",
       "      <td>887819.000000</td>\n",
       "      <td>919366.00000</td>\n",
       "      <td>846430.000000</td>\n",
       "      <td>672588.000000</td>\n",
       "      <td>835313.000000</td>\n",
       "      <td>832999.0000</td>\n",
       "      <td>503401.000000</td>\n",
       "      <td>837233.000000</td>\n",
       "      <td>848707.000000</td>\n",
       "      <td>812329.000000</td>\n",
       "      <td>1.022087e+06</td>\n",
       "      <td>457574.000000</td>\n",
       "      <td>668741.000000</td>\n",
       "      <td>771336.000000</td>\n",
       "    </tr>\n",
       "    <tr>\n",
       "      <th>1</th>\n",
       "      <td>564046.783887</td>\n",
       "      <td>682526.872148</td>\n",
       "      <td>799264.60617</td>\n",
       "      <td>623286.828017</td>\n",
       "      <td>621544.473778</td>\n",
       "      <td>796941.467185</td>\n",
       "      <td>853858.37233</td>\n",
       "      <td>742347.701025</td>\n",
       "      <td>684269.226387</td>\n",
       "      <td>914259.985953</td>\n",
       "      <td>914840.7707</td>\n",
       "      <td>566950.707619</td>\n",
       "      <td>799845.390917</td>\n",
       "      <td>856762.296062</td>\n",
       "      <td>741186.131532</td>\n",
       "      <td>8.015877e+05</td>\n",
       "      <td>567531.492365</td>\n",
       "      <td>626771.536496</td>\n",
       "      <td>857923.865555</td>\n",
       "    </tr>\n",
       "  </tbody>\n",
       "</table>\n",
       "</div>"
      ],
      "text/plain": [
       "              0              1             2              3              4   \\\n",
       "0  515052.000000  629357.000000  894149.00000  597285.000000  522652.000000   \n",
       "1  564046.783887  682526.872148  799264.60617  623286.828017  621544.473778   \n",
       "\n",
       "              5             6              7              8              9   \\\n",
       "0  887819.000000  919366.00000  846430.000000  672588.000000  835313.000000   \n",
       "1  796941.467185  853858.37233  742347.701025  684269.226387  914259.985953   \n",
       "\n",
       "            10             11             12             13             14  \\\n",
       "0  832999.0000  503401.000000  837233.000000  848707.000000  812329.000000   \n",
       "1  914840.7707  566950.707619  799845.390917  856762.296062  741186.131532   \n",
       "\n",
       "             15             16             17             18  \n",
       "0  1.022087e+06  457574.000000  668741.000000  771336.000000  \n",
       "1  8.015877e+05  567531.492365  626771.536496  857923.865555  "
      ]
     },
     "execution_count": 20,
     "metadata": {},
     "output_type": "execute_result"
    }
   ],
   "source": [
    "pred = pd.DataFrame((y_val.values.flatten(), y_pred.flatten()))\n",
    "pred"
   ]
  },
  {
   "cell_type": "code",
   "execution_count": 21,
   "metadata": {},
   "outputs": [
    {
     "name": "stdout",
     "output_type": "stream",
     "text": [
      "Predicted Mean: 737670.8554358577\n",
      "Actual Mean: 740758.8421052631\n",
      "Residual of Means: 3087.98666940548\n"
     ]
    }
   ],
   "source": [
    "print(\"Predicted Mean:\", y_pred.mean())\n",
    "print(\"Actual Mean:\", y_val.mean())\n",
    "print(\"Residual of Means:\", y_val.mean() - y_pred.mean()) "
   ]
  },
  {
   "cell_type": "code",
   "execution_count": 22,
   "metadata": {},
   "outputs": [
    {
     "name": "stdout",
     "output_type": "stream",
     "text": [
      "RMSE: 86349.56559263828\n"
     ]
    }
   ],
   "source": [
    "rmse = np.sqrt(metrics.mean_squared_error(y_val, y_pred))\n",
    "print(\"RMSE:\", rmse) #checking the Root-Mean-Squared-Error"
   ]
  },
  {
   "cell_type": "markdown",
   "metadata": {},
   "source": [
    "To check the accuracy of this model and to use what I have learned in previous labs, I will also manually calculate a regression line. Afterwards, the model's average (which was trained on 80% of the data) can be compared to the manual average (no split)."
   ]
  },
  {
   "cell_type": "code",
   "execution_count": 23,
   "metadata": {},
   "outputs": [
    {
     "data": {
      "text/plain": [
       "59786.16995237614"
      ]
     },
     "execution_count": 23,
     "metadata": {},
     "output_type": "execute_result"
    }
   ],
   "source": [
    "#now, let's find the slope of the line of best fit\n",
    "slope = (df_final[\"Total_People\"].std()/df_final[\"Period\"].astype(float).std())*(df_final.corr().loc[\"Period\", \"Total_People\"])\n",
    "slope"
   ]
  },
  {
   "cell_type": "code",
   "execution_count": 24,
   "metadata": {},
   "outputs": [
    {
     "data": {
      "text/plain": [
       "-119672945.11615762"
      ]
     },
     "execution_count": 24,
     "metadata": {},
     "output_type": "execute_result"
    }
   ],
   "source": [
    "intercept = df_final[\"Total_People\"].mean() - (slope*df_final[\"Period\"].astype(float).mean())\n",
    "intercept"
   ]
  },
  {
   "cell_type": "code",
   "execution_count": 25,
   "metadata": {},
   "outputs": [],
   "source": [
    "manx = slope*df_final[\"Period\"].astype(float)+ intercept\n",
    "monx = model.coef_*df_final[\"Period\"].astype(float) + model.intercept_"
   ]
  },
  {
   "cell_type": "code",
   "execution_count": 26,
   "metadata": {},
   "outputs": [
    {
     "name": "stdout",
     "output_type": "stream",
     "text": [
      "Manual Mean: 763343.5161290446\n",
      "Model Mean: 762712.6371320438\n",
      "Differences in Predicted Means: 630.8789970007492\n"
     ]
    }
   ],
   "source": [
    "print(\"Manual Mean:\", manx.mean())\n",
    "print( \"Model Mean:\", monx.mean())\n",
    "#Checking for the difference in means (keep in mind the model was only trained on 20% of the data):\n",
    "print(\"Differences in Predicted Means:\", manx.mean() - monx.mean())"
   ]
  },
  {
   "cell_type": "code",
   "execution_count": 27,
   "metadata": {},
   "outputs": [
    {
     "name": "stdout",
     "output_type": "stream",
     "text": [
      "On June 15th, 2011, the predicted amount of Travelers to Taiwan is as follows: [566079.53049895]\n"
     ]
    }
   ],
   "source": [
    "#predicting a specific day within the time period with model\n",
    "x = 2011.065 #this number (as specified in the notes) would refer to halfway through June 2011. Since june has 30 days, this is exactly June 15th.\n",
    "result =  model.coef_*x + model.intercept_\n",
    "print(\"On June 15th, 2011, the predicted amount of Travelers to Taiwan is as follows:\", result)"
   ]
  },
  {
   "cell_type": "code",
   "execution_count": 28,
   "metadata": {},
   "outputs": [
    {
     "name": "stdout",
     "output_type": "stream",
     "text": [
      "On June 15th, 2011, the predicted amount of Travelers to Taiwan is as follows: 560928.7591177076\n"
     ]
    }
   ],
   "source": [
    "#predicting a specific day within the time period with manual calcualtion\n",
    "x = 2011.065 #this number (as specified in the notes) would refer to halfway through June 2011. Since june has 30 days, this is exactly June 15th.\n",
    "result =  slope*x + intercept\n",
    "print(\"On June 15th, 2011, the predicted amount of Travelers to Taiwan is as follows:\", result)"
   ]
  },
  {
   "cell_type": "markdown",
   "metadata": {},
   "source": [
    "<h1 id=\"header\">Section 5: Overall Summary</h1>"
   ]
  },
  {
   "cell_type": "markdown",
   "metadata": {},
   "source": [
    "Using the Taiwan Travel Purpose dataset, I aimed to look at trends in Taiwan travel over time. After cleaning the data by removing nulls and duplicates, I grouped collection months together and calculated the total number of travelers per month. Following this, my dataset had 1,023 data points to be used for analysis. In my first visualization, I looked at the relationship between time and those traveling for business, finding a negative correlation between the two. This formed the basis for my analysis in Section 4, where my alternative hypothesis stated there was a significant relationship between total travelers per month and time. After visualizing the data and determining the r-coefficient, I was able to reject the null hypothesis. I then turned my sights to predicting the number of travelers per month. I used a Linear Regression model to train 80% of my data, and then tested it on the remaining 20%. Then, I manually generated the equation for the line of best fit using the entirety of the data. Both appeaered to be relatively accurate. Afterwards, I compared the model predictions to those generated by the line of best fit, noting differences in both. "
   ]
  }
 ],
 "metadata": {
  "kernelspec": {
   "display_name": "Python 3",
   "language": "python",
   "name": "python3"
  },
  "language_info": {
   "codemirror_mode": {
    "name": "ipython",
    "version": 3
   },
   "file_extension": ".py",
   "mimetype": "text/x-python",
   "name": "python",
   "nbconvert_exporter": "python",
   "pygments_lexer": "ipython3",
   "version": "3.11.6"
  }
 },
 "nbformat": 4,
 "nbformat_minor": 2
}
